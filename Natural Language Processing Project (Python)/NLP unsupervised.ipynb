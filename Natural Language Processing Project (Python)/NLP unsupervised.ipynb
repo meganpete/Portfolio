{
 "cells": [
  {
   "cell_type": "code",
   "execution_count": 1,
   "id": "965041b8",
   "metadata": {},
   "outputs": [
    {
     "name": "stdout",
     "output_type": "stream",
     "text": [
      "Once deleted, variables cannot be recovered. Proceed (y/[n])? y\n"
     ]
    }
   ],
   "source": [
    "reset"
   ]
  },
  {
   "cell_type": "code",
   "execution_count": null,
   "id": "54d451c8",
   "metadata": {},
   "outputs": [],
   "source": [
    "#######################################################################\n",
    "########################### LOAD LIBRARIES ##############################\n",
    "########################################################################"
   ]
  },
  {
   "cell_type": "code",
   "execution_count": 2,
   "id": "5deca428",
   "metadata": {},
   "outputs": [
    {
     "name": "stderr",
     "output_type": "stream",
     "text": [
      "[nltk_data] Downloading package wordnet to\n",
      "[nltk_data]     /Users/meganpete/nltk_data...\n",
      "[nltk_data]   Package wordnet is already up-to-date!\n",
      "[nltk_data] Downloading package omw-1.4 to\n",
      "[nltk_data]     /Users/meganpete/nltk_data...\n",
      "[nltk_data]   Package omw-1.4 is already up-to-date!\n"
     ]
    }
   ],
   "source": [
    "import re\n",
    "import pandas as pd \n",
    "import numpy as np \n",
    "import os \n",
    "import matplotlib.pyplot as plt\n",
    "import seaborn as sns\n",
    "\n",
    "import nltk \n",
    "nltk.download('wordnet') \n",
    "nltk.download('omw-1.4') \n",
    "from nltk.tokenize import sent_tokenize \n",
    "from nltk.tokenize import word_tokenize \n",
    "from nltk.corpus import stopwords \n",
    "from nltk.stem import WordNetLemmatizer \n",
    "\n",
    "\n",
    "# Clustering packages:\n",
    "from sklearn.preprocessing import StandardScaler \n",
    "from sklearn.cluster import KMeans, MeanShift, estimate_bandwidth\n",
    "from sklearn.metrics import silhouette_score, silhouette_samples\n",
    "from sklearn.mixture import GaussianMixture\n",
    "from sklearn.preprocessing import OneHotEncoder \n",
    "from sklearn.model_selection import GridSearchCV\n",
    "from sklearn.feature_extraction.text import TfidfTransformer\n",
    "from sklearn.feature_extraction.text import TfidfVectorizer\n",
    "from sklearn.manifold import TSNE\n",
    "from sklearn.metrics import accuracy_score\n",
    "from sklearn.feature_extraction.text import CountVectorizer \n",
    "from sklearn.model_selection import train_test_split \n",
    "from sklearn.svm import SVC \n",
    "from sklearn.metrics import adjusted_rand_score\n",
    "from sklearn.decomposition import PCA\n"
   ]
  },
  {
   "cell_type": "code",
   "execution_count": null,
   "id": "09324c7a",
   "metadata": {},
   "outputs": [],
   "source": [
    "########################################################################\n",
    "########################### PREPROCESSING ##############################\n",
    "########################################################################"
   ]
  },
  {
   "cell_type": "code",
   "execution_count": 3,
   "id": "90df47ff",
   "metadata": {},
   "outputs": [],
   "source": [
    "## Tokenize + clean text, convert to dataframe\n",
    "\n",
    "# Load data\n",
    "with open(\"/Users/meganpete/Documents/Masters/Term 2/Machine Learning/Exam/text/data_train.txt\", \"r\", encoding=\"utf-8\") as f:\n",
    "    text = f.read()\n",
    "\n",
    "# Split the text into separate abstracts\n",
    "abstracts = re.split(r\"[\\n\\s]*###\\d+[\\n\\s]*\", text)[1:]\n",
    "\n",
    "# Tokenize and clean each sentence, and extract the label\n",
    "labeled_sentences = []\n",
    "tokens = []\n",
    "lemmatizer = WordNetLemmatizer()\n",
    "stop_words = set(stopwords.words('english'))\n",
    "\n",
    "for abstract in abstracts:\n",
    "    label_sentences = re.findall(r\"(\\b\\w+\\b)\\s+(.+)\", abstract)\n",
    "    for label, sentence in label_sentences:\n",
    "        sentence = re.sub(r'[^a-zA-Z]+',' ', sentence).strip() # Remove non alphabetic\n",
    "        word_tokens = word_tokenize(sentence) # Tokenize\n",
    "        cleaned_word_tokens = []\n",
    "        for word in word_tokens:\n",
    "            if word.lower() not in stop_words:\n",
    "                word = lemmatizer.lemmatize(word) # Stem words\n",
    "                cleaned_word_tokens.append(word.lower())\n",
    "        cleaned_word_tokens = ' '.join(cleaned_word_tokens) # Convert to one sentence\n",
    "        tokens.append(cleaned_word_tokens)\n",
    "        labeled_sentences.append((label, cleaned_word_tokens)) # Add the labeled sentence to the list\n",
    "        \n"
   ]
  },
  {
   "cell_type": "code",
   "execution_count": 4,
   "id": "1ecb57ce",
   "metadata": {},
   "outputs": [
    {
     "data": {
      "text/html": [
       "<div>\n",
       "<style scoped>\n",
       "    .dataframe tbody tr th:only-of-type {\n",
       "        vertical-align: middle;\n",
       "    }\n",
       "\n",
       "    .dataframe tbody tr th {\n",
       "        vertical-align: top;\n",
       "    }\n",
       "\n",
       "    .dataframe thead th {\n",
       "        text-align: right;\n",
       "    }\n",
       "</style>\n",
       "<table border=\"1\" class=\"dataframe\">\n",
       "  <thead>\n",
       "    <tr style=\"text-align: right;\">\n",
       "      <th></th>\n",
       "      <th>label</th>\n",
       "      <th>sentence</th>\n",
       "    </tr>\n",
       "  </thead>\n",
       "  <tbody>\n",
       "    <tr>\n",
       "      <th>0</th>\n",
       "      <td>OBJECTIVE</td>\n",
       "      <td>investigate efficacy week daily low dose oral ...</td>\n",
       "    </tr>\n",
       "    <tr>\n",
       "      <th>1</th>\n",
       "      <td>METHODS</td>\n",
       "      <td>total patient primary knee oa randomized recei...</td>\n",
       "    </tr>\n",
       "    <tr>\n",
       "      <th>2</th>\n",
       "      <td>METHODS</td>\n",
       "      <td>outcome measure included pain reduction improv...</td>\n",
       "    </tr>\n",
       "    <tr>\n",
       "      <th>3</th>\n",
       "      <td>METHODS</td>\n",
       "      <td>pain assessed using visual analog pain scale mm</td>\n",
       "    </tr>\n",
       "    <tr>\n",
       "      <th>4</th>\n",
       "      <td>METHODS</td>\n",
       "      <td>secondary outcome measure included western ont...</td>\n",
       "    </tr>\n",
       "    <tr>\n",
       "      <th>...</th>\n",
       "      <td>...</td>\n",
       "      <td>...</td>\n",
       "    </tr>\n",
       "    <tr>\n",
       "      <th>99995</th>\n",
       "      <td>METHODS</td>\n",
       "      <td>neodymium yag nd yag capsulotomy rate timing s...</td>\n",
       "    </tr>\n",
       "    <tr>\n",
       "      <th>99996</th>\n",
       "      <td>METHODS</td>\n",
       "      <td>survival analysis used compare nd yag rate</td>\n",
       "    </tr>\n",
       "    <tr>\n",
       "      <th>99997</th>\n",
       "      <td>METHODS</td>\n",
       "      <td>retroillumination image taken evaluate pco</td>\n",
       "    </tr>\n",
       "    <tr>\n",
       "      <th>99998</th>\n",
       "      <td>RESULTS</td>\n",
       "      <td>year significant difference fraction severity ...</td>\n",
       "    </tr>\n",
       "    <tr>\n",
       "      <th>99999</th>\n",
       "      <td>RESULTS</td>\n",
       "      <td>hsm pmma iol significantly higher pco fraction...</td>\n",
       "    </tr>\n",
       "  </tbody>\n",
       "</table>\n",
       "<p>100000 rows × 2 columns</p>\n",
       "</div>"
      ],
      "text/plain": [
       "           label                                           sentence\n",
       "0      OBJECTIVE  investigate efficacy week daily low dose oral ...\n",
       "1        METHODS  total patient primary knee oa randomized recei...\n",
       "2        METHODS  outcome measure included pain reduction improv...\n",
       "3        METHODS    pain assessed using visual analog pain scale mm\n",
       "4        METHODS  secondary outcome measure included western ont...\n",
       "...          ...                                                ...\n",
       "99995    METHODS  neodymium yag nd yag capsulotomy rate timing s...\n",
       "99996    METHODS         survival analysis used compare nd yag rate\n",
       "99997    METHODS         retroillumination image taken evaluate pco\n",
       "99998    RESULTS  year significant difference fraction severity ...\n",
       "99999    RESULTS  hsm pmma iol significantly higher pco fraction...\n",
       "\n",
       "[100000 rows x 2 columns]"
      ]
     },
     "execution_count": 4,
     "metadata": {},
     "output_type": "execute_result"
    }
   ],
   "source": [
    "# Convert to dataframe \n",
    "df = pd.DataFrame(labeled_sentences, columns = ['label','sentence'])\n",
    "\n",
    "## Change this later -- making df smaller so that computations quicker\n",
    "df = df.head(100000) ## CHANGE \n",
    "df\n"
   ]
  },
  {
   "cell_type": "code",
   "execution_count": 5,
   "id": "59202f88",
   "metadata": {},
   "outputs": [],
   "source": [
    "## Create bag of words model \n",
    "corpus = list(df['sentence'])\n",
    "vectorizer = TfidfVectorizer(max_features = 1000)\n",
    "#Can change max features ****\n",
    "X = vectorizer.fit_transform(corpus).toarray() \n",
    "y = df['label'].values\n",
    "# Split into train and test \n",
    "# X_train_s, X_test_s , y_train_s, y_test_s = train_test_split(X, y , test_size = 0.20, random_state=101)"
   ]
  },
  {
   "cell_type": "code",
   "execution_count": null,
   "id": "608688d6",
   "metadata": {},
   "outputs": [],
   "source": []
  },
  {
   "cell_type": "code",
   "execution_count": null,
   "id": "ccc82bde",
   "metadata": {},
   "outputs": [],
   "source": [
    "########################################################################\n",
    "####################### HYPERPARAMETER TUNING ##########################\n",
    "########################################################################"
   ]
  },
  {
   "cell_type": "code",
   "execution_count": null,
   "id": "41666730",
   "metadata": {},
   "outputs": [],
   "source": [
    "## KMEANS\n",
    "# Define a range of number of clusters to test\n",
    "k_range = [3,5,7,9]\n",
    "\n",
    "# Initialize empty lists to store the SSE and silhouette scores\n",
    "sse = []\n",
    "silhouette_scores = []    \n",
    "\n",
    "# Fit KMeans for each value of k\n",
    "for k in k_range:\n",
    "    kmeans = KMeans(n_clusters=k, random_state=42)\n",
    "    kmeans.fit(X)\n",
    "    sse.append(kmeans.inertia_)\n",
    "    silhouette_scores.append(silhouette_score(X, kmeans.labels_))\n",
    "\n"
   ]
  },
  {
   "cell_type": "code",
   "execution_count": null,
   "id": "e8eb9677",
   "metadata": {},
   "outputs": [],
   "source": [
    "silhouette_scores"
   ]
  },
  {
   "cell_type": "code",
   "execution_count": null,
   "id": "423e890f",
   "metadata": {},
   "outputs": [],
   "source": [
    "# Plot the elbow curve\n",
    "plt.plot(k_range, sse, 'bx-')\n",
    "plt.xlabel('Number of clusters (k)')\n",
    "plt.ylabel('SSE')\n",
    "plt.title('Elbow Method')\n",
    "plt.show()"
   ]
  },
  {
   "cell_type": "code",
   "execution_count": null,
   "id": "95f5060f",
   "metadata": {},
   "outputs": [],
   "source": [
    "# Plot the silhouette scores\n",
    "plt.plot(k_range, silhouette_scores, 'bx-')\n",
    "plt.xlabel('Number of clusters (k)')\n",
    "plt.ylabel('Silhouette Score')\n",
    "plt.title('Silhouette Analysis')\n",
    "plt.show()\n"
   ]
  },
  {
   "cell_type": "code",
   "execution_count": null,
   "id": "20df0732",
   "metadata": {},
   "outputs": [],
   "source": [
    "# Find the optimal number of clusters based on the highest silhouette score\n",
    "optimal_k = k_range[np.argmax(silhouette_scores)]\n",
    "print(f\"The optimal number of clusters is {optimal_k}\")\n"
   ]
  },
  {
   "cell_type": "code",
   "execution_count": null,
   "id": "f4ccdb02",
   "metadata": {},
   "outputs": [],
   "source": [
    "########################################################################\n",
    "###################### BEST CLUSTERS ANALYSIS ##########################\n",
    "########################################################################"
   ]
  },
  {
   "cell_type": "code",
   "execution_count": null,
   "id": "510daf28",
   "metadata": {},
   "outputs": [],
   "source": [
    "# K-means best k\n",
    "\n",
    "k=5 \n",
    "\n",
    "# Cluster the transformed data using K-means\n",
    "kmeans = KMeans(n_clusters=k, random_state=42)\n",
    "y_pred = kmeans.fit_predict(X)\n",
    "\n"
   ]
  },
  {
   "cell_type": "code",
   "execution_count": null,
   "id": "ad4cd55a",
   "metadata": {},
   "outputs": [],
   "source": [
    "ari = adjusted_rand_score(df['label'], y_pred)\n",
    "print(f\"Adjusted Rand index: {ari}\")"
   ]
  },
  {
   "cell_type": "code",
   "execution_count": null,
   "id": "def058ad",
   "metadata": {},
   "outputs": [],
   "source": [
    "# Add cluster labels to dataframe\n",
    "df['cluster'] = kmeans.labels_\n",
    "\n",
    "# Compute label distribution within each cluster\n",
    "label_dist = pd.crosstab(df['cluster'], df['label'], normalise='index')\n",
    "\n",
    "import seaborn as sns\n",
    "import matplotlib.pyplot as plt\n",
    "\n",
    "# Add cluster labels to dataframe\n",
    "df['cluster'] = kmeans.labels_\n",
    "\n",
    "# Compute label distribution within each cluster\n",
    "label_dist = pd.crosstab(df['cluster'], df['label'], normalise='index')\n",
    "\n",
    "# Create heatmap\n",
    "sns.heatmap(label_dist, cmap='YlGnBu')\n",
    "plt.title('Label Distribution within Clusters')\n",
    "plt.xlabel('Label')\n",
    "plt.ylabel('Cluster')\n",
    "plt.show()\n"
   ]
  },
  {
   "cell_type": "code",
   "execution_count": null,
   "id": "a4a83b1a",
   "metadata": {},
   "outputs": [],
   "source": [
    "# K-means best k T-SNE plot\n",
    "\n",
    "tsne = TSNE(n_components=2, perplexity=80, random_state=42)\n",
    "X_tsne = tsne.fit_transform(X)\n",
    "\n",
    "# Plot the transformed data with different colors for each cluster\n",
    "plt.scatter(X_tsne[:, 0], X_tsne[:, 1], c=labels_kmeans)\n",
    "plt.title(f\"t-SNE visualization with K-means clustering for k={k}\")\n",
    "plt.show()\n"
   ]
  },
  {
   "cell_type": "code",
   "execution_count": null,
   "id": "dd3347fb",
   "metadata": {},
   "outputs": [],
   "source": [
    "# PCA\n",
    "\n",
    "pca = PCA(n_components=2)\n",
    "X_pca = pca.fit_transform(X)\n",
    "\n",
    "# plot the first two principal components, colored by cluster label\n",
    "plt.scatter(X_pca[:, 0], X_pca[:, 1], c=y_pred)\n",
    "plt.xlabel('PC1')\n",
    "plt.ylabel('PC2')\n",
    "plt.show()\n"
   ]
  },
  {
   "cell_type": "code",
   "execution_count": 170,
   "id": "e813b669",
   "metadata": {},
   "outputs": [
    {
     "name": "stdout",
     "output_type": "stream",
     "text": [
      "The best model is {best_gmm}\n"
     ]
    }
   ],
   "source": [
    "from sklearn.mixture import GaussianMixture\n",
    "from sklearn.model_selection import GridSearchCV\n",
    "\n",
    "# Define parameter grid\n",
    "params = {'n_components': [2, 10, 50],\n",
    "         'covariance_type': ['full', 'tied', 'diag', 'spherical']}\n",
    "\n",
    "# Create GMM object\n",
    "gmm = GaussianMixture(random_state=42)\n",
    "\n",
    "# Create GridSearchCV object\n",
    "grid = GridSearchCV(gmm, params, cv=5)\n",
    "\n",
    "# Fit GridSearchCV object to training data\n",
    "grid.fit(X)\n",
    "\n",
    "# Get best model\n",
    "best_gmm = grid.best_estimator_\n"
   ]
  },
  {
   "cell_type": "code",
   "execution_count": 178,
   "id": "a37cdcda",
   "metadata": {
    "scrolled": true
   },
   "outputs": [
    {
     "data": {
      "image/png": "[encoded data removed]",
      "text/plain": [
       "<Figure size 432x288 with 1 Axes>"
      ]
     },
     "metadata": {
      "needs_background": "light"
     },
     "output_type": "display_data"
    }
   ],
   "source": [
    "# Fit GMM to data\n",
    "gmm = GaussianMixture(random_state=42, n_components = 50, covariance_type = 'spherical')\n",
    "gmm.fit(X)\n",
    "labels_gmm = gmm.predict(X)\n",
    "\n",
    "# Plot clusters\n",
    "sns.scatterplot(x=X[:, 0], y=X[:, 1], hue=labels, palette='Set1')\n",
    "plt.show()\n"
   ]
  },
  {
   "cell_type": "code",
   "execution_count": 179,
   "id": "952ab642",
   "metadata": {},
   "outputs": [
    {
     "data": {
      "image/png": "[encoded data removed]",
      "text/plain": [
       "<Figure size 432x288 with 1 Axes>"
      ]
     },
     "metadata": {
      "needs_background": "light"
     },
     "output_type": "display_data"
    }
   ],
   "source": [
    "# PCA GMM\n",
    "\n",
    "# Reduce dimensions with PCA\n",
    "pca = PCA(n_components=2)\n",
    "X_pca = pca.fit_transform(X)\n",
    "\n",
    "# Plot results\n",
    "import matplotlib.pyplot as plt\n",
    "plt.scatter(X_pca[:, 0], X_pca[:, 1], c=labels_gmm)\n",
    "plt.xlabel('PC1')\n",
    "plt.ylabel('PC2')\n",
    "plt.show()\n"
   ]
  }
 ],
 "metadata": {
  "kernelspec": {
   "display_name": "Python 3 (ipykernel)",
   "language": "python",
   "name": "python3"
  },
  "language_info": {
   "codemirror_mode": {
    "name": "ipython",
    "version": 3
   },
   "file_extension": ".py",
   "mimetype": "text/x-python",
   "name": "python",
   "nbconvert_exporter": "python",
   "pygments_lexer": "ipython3",
   "version": "3.11.4"
  }
 },
 "nbformat": 4,
 "nbformat_minor": 5
}
