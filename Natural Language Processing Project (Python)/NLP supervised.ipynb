{
 "cells": [
  {
   "cell_type": "code",
   "execution_count": 1,
   "id": "9111d66e",
   "metadata": {},
   "outputs": [
    {
     "name": "stdout",
     "output_type": "stream",
     "text": [
      "Once deleted, variables cannot be recovered. Proceed (y/[n])? Y\n"
     ]
    }
   ],
   "source": [
    "reset"
   ]
  },
  {
   "cell_type": "code",
   "execution_count": 2,
   "id": "68229995",
   "metadata": {},
   "outputs": [],
   "source": [
    "#####################################################################\n",
    "######################### IMPORT LIBRARIES ##########################\n",
    "#####################################################################"
   ]
  },
  {
   "cell_type": "code",
   "execution_count": 42,
   "id": "eed1a0c9",
   "metadata": {},
   "outputs": [
    {
     "name": "stderr",
     "output_type": "stream",
     "text": [
      "[nltk_data] Downloading package wordnet to\n",
      "[nltk_data]     /Users/meganpete/nltk_data...\n",
      "[nltk_data]   Package wordnet is already up-to-date!\n",
      "[nltk_data] Downloading package omw-1.4 to\n",
      "[nltk_data]     /Users/meganpete/nltk_data...\n",
      "[nltk_data]   Package omw-1.4 is already up-to-date!\n",
      "[nltk_data] Downloading package punkt to /Users/meganpete/nltk_data...\n",
      "[nltk_data]   Package punkt is already up-to-date!\n",
      "[nltk_data] Downloading package averaged_perceptron_tagger to\n",
      "[nltk_data]     /Users/meganpete/nltk_data...\n",
      "[nltk_data]   Package averaged_perceptron_tagger is already up-to-\n",
      "[nltk_data]       date!\n"
     ]
    }
   ],
   "source": [
    "import re\n",
    "import pandas as pd \n",
    "import numpy as np \n",
    "import os \n",
    "import nltk \n",
    "import matplotlib.pyplot as plt\n",
    "import shap \n",
    "from collections import Counter\n",
    "from wordcloud import WordCloud\n",
    "\n",
    "nltk.download('wordnet') \n",
    "nltk.download('omw-1.4') \n",
    "nltk.download('punkt')\n",
    "nltk.download('averaged_perceptron_tagger')\n",
    "from nltk.tokenize import sent_tokenize \n",
    "from nltk.tokenize import word_tokenize \n",
    "from nltk.corpus import stopwords \n",
    "from nltk.stem import WordNetLemmatizer \n",
    "\n",
    "from sklearn.feature_extraction.text import TfidfTransformer\n",
    "from sklearn.feature_extraction.text import TfidfVectorizer\n",
    "from sklearn.preprocessing import OneHotEncoder \n",
    "from sklearn.model_selection import GridSearchCV\n",
    "from sklearn.feature_extraction.text import CountVectorizer \n",
    "from sklearn.model_selection import train_test_split \n",
    "from sklearn.svm import SVC \n",
    "from sklearn.ensemble import RandomForestClassifier\n",
    "from sklearn.linear_model import LogisticRegression\n",
    "from sklearn.utils import resample\n",
    "from sklearn.metrics import roc_auc_score, precision_recall_fscore_support\n",
    "from sklearn.preprocessing import label_binarize\n",
    "\n",
    "\n",
    "# Models:\n",
    "from xgboost import XGBClassifier\n",
    "from sklearn.metrics import confusion_matrix, classification_report,accuracy_score\n"
   ]
  },
  {
   "cell_type": "code",
   "execution_count": 4,
   "id": "71546eb6",
   "metadata": {},
   "outputs": [],
   "source": [
    "#####################################################################\n",
    "############################ PREPROCESSING ##########################\n",
    "#####################################################################"
   ]
  },
  {
   "cell_type": "code",
   "execution_count": 5,
   "id": "14e777c4",
   "metadata": {},
   "outputs": [],
   "source": [
    "## Tokenize + clean text, convert to dataframe\n",
    "\n",
    "# Load data\n",
    "with open(\"data_train.txt\", \"r\", encoding=\"utf-8\") as f:\n",
    "    text = f.read()\n",
    "\n",
    "# Split the text into separate abstracts\n",
    "abstracts = re.split(r\"[\\n\\s]*###\\d+[\\n\\s]*\", text)[1:]\n",
    "\n",
    "# Tokenize and clean each sentence, and extract the label\n",
    "labeled_sentences = []\n",
    "tokens = []\n",
    "lemmatizer = WordNetLemmatizer()\n",
    "stop_words = set(stopwords.words('english'))\n",
    "\n",
    "for abstract in abstracts:\n",
    "    label_sentences = re.findall(r\"(\\b\\w+\\b)\\s+(.+)\", abstract)\n",
    "    for label, sentence in label_sentences:\n",
    "        sentence = re.sub(r'[^a-zA-Z]+',' ', sentence).strip() # Remove non alphabetic\n",
    "        word_tokens = word_tokenize(sentence) # Tokenize\n",
    "        cleaned_word_tokens = []\n",
    "        for word in word_tokens:\n",
    "            if word.lower() not in stop_words:\n",
    "                word = lemmatizer.lemmatize(word) # Stem words\n",
    "                cleaned_word_tokens.append(word.lower())\n",
    "        cleaned_word_tokens = ' '.join(cleaned_word_tokens) # Convert to one sentence\n",
    "        tokens.append(cleaned_word_tokens)\n",
    "        labeled_sentences.append((label, cleaned_word_tokens)) # Add the labeled sentence to the list\n",
    "        \n"
   ]
  },
  {
   "cell_type": "code",
   "execution_count": 6,
   "id": "06b8bd51",
   "metadata": {},
   "outputs": [
    {
     "data": {
      "text/html": [
       "<div>\n",
       "<style scoped>\n",
       "    .dataframe tbody tr th:only-of-type {\n",
       "        vertical-align: middle;\n",
       "    }\n",
       "\n",
       "    .dataframe tbody tr th {\n",
       "        vertical-align: top;\n",
       "    }\n",
       "\n",
       "    .dataframe thead th {\n",
       "        text-align: right;\n",
       "    }\n",
       "</style>\n",
       "<table border=\"1\" class=\"dataframe\">\n",
       "  <thead>\n",
       "    <tr style=\"text-align: right;\">\n",
       "      <th></th>\n",
       "      <th>label</th>\n",
       "      <th>sentence</th>\n",
       "    </tr>\n",
       "  </thead>\n",
       "  <tbody>\n",
       "    <tr>\n",
       "      <th>0</th>\n",
       "      <td>OBJECTIVE</td>\n",
       "      <td>investigate efficacy week daily low dose oral ...</td>\n",
       "    </tr>\n",
       "    <tr>\n",
       "      <th>1</th>\n",
       "      <td>METHODS</td>\n",
       "      <td>total patient primary knee oa randomized recei...</td>\n",
       "    </tr>\n",
       "    <tr>\n",
       "      <th>2</th>\n",
       "      <td>METHODS</td>\n",
       "      <td>outcome measure included pain reduction improv...</td>\n",
       "    </tr>\n",
       "    <tr>\n",
       "      <th>3</th>\n",
       "      <td>METHODS</td>\n",
       "      <td>pain assessed using visual analog pain scale mm</td>\n",
       "    </tr>\n",
       "    <tr>\n",
       "      <th>4</th>\n",
       "      <td>METHODS</td>\n",
       "      <td>secondary outcome measure included western ont...</td>\n",
       "    </tr>\n",
       "    <tr>\n",
       "      <th>...</th>\n",
       "      <td>...</td>\n",
       "      <td>...</td>\n",
       "    </tr>\n",
       "    <tr>\n",
       "      <th>39995</th>\n",
       "      <td>METHODS</td>\n",
       "      <td>extent cad graded operator association ppci</td>\n",
       "    </tr>\n",
       "    <tr>\n",
       "      <th>39996</th>\n",
       "      <td>METHODS</td>\n",
       "      <td>evaluated prognostic value high sensitivity ca...</td>\n",
       "    </tr>\n",
       "    <tr>\n",
       "      <th>39997</th>\n",
       "      <td>METHODS</td>\n",
       "      <td>outcomes cardiovascular death cvd spontaneous ...</td>\n",
       "    </tr>\n",
       "    <tr>\n",
       "      <th>39998</th>\n",
       "      <td>RESULTS</td>\n",
       "      <td>angiographic data extent cad improved predicti...</td>\n",
       "    </tr>\n",
       "    <tr>\n",
       "      <th>39999</th>\n",
       "      <td>RESULTS</td>\n",
       "      <td>biomarker information provided additional prog...</td>\n",
       "    </tr>\n",
       "  </tbody>\n",
       "</table>\n",
       "<p>40000 rows × 2 columns</p>\n",
       "</div>"
      ],
      "text/plain": [
       "           label                                           sentence\n",
       "0      OBJECTIVE  investigate efficacy week daily low dose oral ...\n",
       "1        METHODS  total patient primary knee oa randomized recei...\n",
       "2        METHODS  outcome measure included pain reduction improv...\n",
       "3        METHODS    pain assessed using visual analog pain scale mm\n",
       "4        METHODS  secondary outcome measure included western ont...\n",
       "...          ...                                                ...\n",
       "39995    METHODS        extent cad graded operator association ppci\n",
       "39996    METHODS  evaluated prognostic value high sensitivity ca...\n",
       "39997    METHODS  outcomes cardiovascular death cvd spontaneous ...\n",
       "39998    RESULTS  angiographic data extent cad improved predicti...\n",
       "39999    RESULTS  biomarker information provided additional prog...\n",
       "\n",
       "[40000 rows x 2 columns]"
      ]
     },
     "execution_count": 6,
     "metadata": {},
     "output_type": "execute_result"
    }
   ],
   "source": [
    "# Convert to dataframe \n",
    "df = pd.DataFrame(labeled_sentences, columns = ['label','sentence'])\n",
    "\n",
    "df = df.head(40000) #80,000 seems good for time\n",
    "df\n"
   ]
  },
  {
   "cell_type": "code",
   "execution_count": 7,
   "id": "1cb1cf34",
   "metadata": {},
   "outputs": [],
   "source": [
    "## Create bag of words model \n",
    "corpus = list(df['sentence'])\n",
    "\n",
    "#### Can change max features ****\n",
    "vectorizer = TfidfVectorizer(max_features=1000)\n",
    "X = vectorizer.fit_transform(corpus).toarray() \n",
    "y = df['label'].values\n",
    "# Split into train and test \n",
    "X_train_s, X_test_s , y_train_s, y_test_s = train_test_split(X, y , test_size = 0.20, random_state=101)"
   ]
  },
  {
   "cell_type": "code",
   "execution_count": 8,
   "id": "3a49ee18",
   "metadata": {},
   "outputs": [
    {
     "name": "stdout",
     "output_type": "stream",
     "text": [
      "RESULTS: 10186\n",
      "METHODS: 10546\n",
      "OBJECTIVE: 2514\n",
      "BACKGROUND: 3908\n",
      "CONCLUSIONS: 4846\n"
     ]
    }
   ],
   "source": [
    "## Check frequecies for upsampling\n",
    "\n",
    "# Convert y to a numpy array\n",
    "y_train_np = np.array(y_train_s)\n",
    "\n",
    "# Count the frequency of each label\n",
    "label_counts = Counter(y_train_np)\n",
    "\n",
    "# Print the frequency of each label\n",
    "for label, count in label_counts.items():\n",
    "    print(f\"{label}: {count}\")\n",
    "    \n",
    "# Up-sample background and objective\n"
   ]
  },
  {
   "cell_type": "code",
   "execution_count": 9,
   "id": "eeaca503",
   "metadata": {},
   "outputs": [
    {
     "name": "stdout",
     "output_type": "stream",
     "text": [
      "             Nouns  Verbs  Adjectives  Adverbs\n",
      "label                                         \n",
      "BACKGROUND   55.36  15.74       24.98     3.92\n",
      "CONCLUSIONS  54.86  16.30       24.42     4.42\n",
      "METHODS      58.02  17.06       21.95     2.97\n",
      "OBJECTIVE    58.96  13.93       24.47     2.64\n",
      "RESULTS      60.17  13.66       21.21     4.96\n"
     ]
    }
   ],
   "source": [
    "def count_word_types(sentence):\n",
    "    tokens = nltk.word_tokenize(sentence)\n",
    "    pos_tags = nltk.pos_tag(tokens)\n",
    "    \n",
    "    word_types = {\n",
    "        'Nouns': 0,\n",
    "        'Verbs': 0,\n",
    "        'Adjectives': 0,\n",
    "        'Adverbs': 0\n",
    "    }\n",
    "    \n",
    "    for _, pos in pos_tags:\n",
    "        if pos.startswith('N'):\n",
    "            word_types['Nouns'] += 1\n",
    "        elif pos.startswith('V'):\n",
    "            word_types['Verbs'] += 1\n",
    "        elif pos.startswith('J'):\n",
    "            word_types['Adjectives'] += 1\n",
    "        elif pos.startswith('R'):\n",
    "            word_types['Adverbs'] += 1\n",
    "    \n",
    "    return word_types\n",
    "\n",
    "# Apply the count_word_types function to each sentence in the DataFrame\n",
    "df['word_types'] = df['sentence'].apply(count_word_types)\n",
    "\n",
    "# Convert the dictionaries in the 'word_types' column to a DataFrame\n",
    "word_types_df = pd.DataFrame(df['word_types'].tolist())\n",
    "\n",
    "# Concatenate the original DataFrame with the new word_types_df DataFrame\n",
    "df = pd.concat([df.drop(columns=['word_types']), word_types_df], axis=1)\n",
    "\n",
    "# Group by label and sum the word type counts\n",
    "word_type_totals = df.groupby('label')[['Nouns', 'Verbs', 'Adjectives', 'Adverbs']].sum()\n",
    "\n",
    "# Calculate the total number of words for each label\n",
    "total_words = word_type_totals.sum(axis=1)\n",
    "\n",
    "# Calculate the percentage of word types for each label\n",
    "word_type_percentages = word_type_totals.div(total_words, axis=0) * 100\n",
    "\n",
    "# Round the numbers in the DataFrame to 2 decimal places\n",
    "word_type_percentages_rounded = word_type_percentages.round(2)\n",
    "\n",
    "# Print the results\n",
    "print(word_type_percentages_rounded)\n"
   ]
  },
  {
   "cell_type": "code",
   "execution_count": 10,
   "id": "58c2162f",
   "metadata": {},
   "outputs": [],
   "source": [
    "#####################################################################\n",
    "############################ RUN MODELS  ############################\n",
    "#####################################################################\n"
   ]
  },
  {
   "cell_type": "code",
   "execution_count": 11,
   "id": "d06a2a13",
   "metadata": {},
   "outputs": [
    {
     "name": "stdout",
     "output_type": "stream",
     "text": [
      "Test set:\n",
      "         Class  Precision  Recall  F1-score   AUC\n",
      "0   BACKGROUND       0.60    0.34      0.44  0.88\n",
      "1  CONCLUSIONS       0.62    0.46      0.53  0.88\n",
      "2      METHODS       0.70    0.87      0.78  0.93\n",
      "3    OBJECTIVE       0.62    0.47      0.53  0.90\n",
      "4      RESULTS       0.74    0.81      0.78  0.92\n",
      "\n",
      "Training set:\n",
      "         Class  Precision  Recall  F1-score   AUC\n",
      "0   BACKGROUND       0.96    0.87      0.91  1.00\n",
      "1  CONCLUSIONS       0.98    0.89      0.93  0.99\n",
      "2      METHODS       0.88    0.99      0.93  0.99\n",
      "3    OBJECTIVE       1.00    0.86      0.93  0.99\n",
      "4      RESULTS       0.97    0.95      0.96  0.99\n"
     ]
    }
   ],
   "source": [
    "## Random forest model \n",
    "\n",
    "def classification_report_with_auc(y_true, y_pred, y_probs, classes):\n",
    "    # Compute precision, recall, F1-score\n",
    "    report = precision_recall_fscore_support(y_true, y_pred)\n",
    "\n",
    "    # Compute ROC AUC for each class\n",
    "    y_true_bin = label_binarize(y_true, classes=classes)\n",
    "    auc_scores = [roc_auc_score(y_true_bin[:, i], y_probs[:, i]) for i in range(len(classes))]\n",
    "\n",
    "    # Create a DataFrame to display the results\n",
    "    report_df = pd.DataFrame({\n",
    "        'Class': classes,\n",
    "        'Precision': report[0],\n",
    "        'Recall': report[1],\n",
    "        'F1-score': report[2],\n",
    "        'AUC': auc_scores\n",
    "    })\n",
    "\n",
    "    # Round values to 2 decimal places\n",
    "    report_df = report_df.round(2)\n",
    "\n",
    "    return report_df\n",
    "\n",
    "# Run random forest with best parameters\n",
    "rf_best = RandomForestClassifier(n_estimators=300, min_samples_split=10, max_depth=100)\n",
    "rf_best.fit(X_train_s, y_train_s)\n",
    "\n",
    "# Get predictions and probabilities\n",
    "predictions_test = rf_best.predict(X_test_s)\n",
    "y_test_probs = rf_best.predict_proba(X_test_s)\n",
    "\n",
    "predictions_train = rf_best.predict(X_train_s)\n",
    "y_train_probs = rf_best.predict_proba(X_train_s)\n",
    "\n",
    "# Get unique classes\n",
    "unique_classes = np.unique(y_train_s)\n",
    "\n",
    "# Print custom classification report with AUC for the test set\n",
    "print(\"Test set:\")\n",
    "report_df_test = classification_report_with_auc(y_test_s, predictions_test, y_test_probs, unique_classes)\n",
    "print(report_df_test)\n",
    "\n",
    "# Print custom classification report with AUC for the training set\n",
    "print(\"\\nTraining set:\")\n",
    "report_df_train = classification_report_with_auc(y_train_s, predictions_train, y_train_probs, unique_classes)\n",
    "print(report_df_train)\n"
   ]
  },
  {
   "cell_type": "code",
   "execution_count": 12,
   "id": "1012256d",
   "metadata": {},
   "outputs": [
    {
     "name": "stderr",
     "output_type": "stream",
     "text": [
      "lbfgs failed to converge (status=1):\n",
      "STOP: TOTAL NO. of ITERATIONS REACHED LIMIT.\n",
      "\n",
      "Increase the number of iterations (max_iter) or scale the data as shown in:\n",
      "    https://scikit-learn.org/stable/modules/preprocessing.html\n",
      "Please also refer to the documentation for alternative solver options:\n",
      "    https://scikit-learn.org/stable/modules/linear_model.html#logistic-regression\n"
     ]
    },
    {
     "name": "stdout",
     "output_type": "stream",
     "text": [
      "Logistic Regression Test set:\n",
      "         Class  Precision  Recall  F1-score   AUC\n",
      "0   BACKGROUND       0.52    0.50      0.51  0.89\n",
      "1  CONCLUSIONS       0.60    0.55      0.57  0.89\n",
      "2      METHODS       0.80    0.83      0.82  0.94\n",
      "3    OBJECTIVE       0.55    0.49      0.52  0.91\n",
      "4      RESULTS       0.77    0.80      0.79  0.93\n",
      "\n",
      "Logistic Regression Training set:\n",
      "         Class  Precision  Recall  F1-score   AUC\n",
      "0   BACKGROUND       0.60    0.58      0.59  0.92\n",
      "1  CONCLUSIONS       0.66    0.61      0.63  0.92\n",
      "2      METHODS       0.82    0.87      0.84  0.95\n",
      "3    OBJECTIVE       0.66    0.53      0.59  0.94\n",
      "4      RESULTS       0.81    0.83      0.82  0.95\n"
     ]
    }
   ],
   "source": [
    "## Logistic regression model\n",
    "\n",
    "# Use the custom function defined earlier\n",
    "\n",
    "# Run logistic regression with best parameters\n",
    "logistic_best = LogisticRegression(C=10, penalty='l2')\n",
    "logistic_best.fit(X_train_s, y_train_s)\n",
    "\n",
    "# Get predictions and probabilities\n",
    "predictions_test_log = logistic_best.predict(X_test_s)\n",
    "y_test_probs_log = logistic_best.predict_proba(X_test_s)\n",
    "\n",
    "predictions_train_log = logistic_best.predict(X_train_s)\n",
    "y_train_probs_log = logistic_best.predict_proba(X_train_s)\n",
    "\n",
    "# Get unique classes\n",
    "unique_classes = np.unique(y_train_s)\n",
    "\n",
    "# Print custom classification report with AUC for the test set\n",
    "print(\"Logistic Regression Test set:\")\n",
    "report_df_test_log = classification_report_with_auc(y_test_s, predictions_test_log, y_test_probs_log, unique_classes)\n",
    "print(report_df_test_log)\n",
    "\n",
    "# Print custom classification report with AUC for the training set\n",
    "print(\"\\nLogistic Regression Training set:\")\n",
    "report_df_train_log = classification_report_with_auc(y_train_s, predictions_train_log, y_train_probs_log, unique_classes)\n",
    "print(report_df_train_log)\n"
   ]
  },
  {
   "cell_type": "code",
   "execution_count": 13,
   "id": "b3648736",
   "metadata": {},
   "outputs": [],
   "source": [
    "#####################################################################\n",
    "############################ UPSAMPLING  ############################\n",
    "#####################################################################\n"
   ]
  },
  {
   "cell_type": "code",
   "execution_count": 14,
   "id": "e2a006f1",
   "metadata": {},
   "outputs": [],
   "source": [
    "\n",
    "# # Convert NumPy arrays to pandas DataFrames\n",
    "# X_train_s_df = pd.DataFrame(X_train_s)\n",
    "# y_train_s_df = pd.DataFrame(y_train_s, columns=['label'])  \n",
    "\n",
    "\n",
    "# # Combine X_train_s and y_train_s into a single DataFrame\n",
    "# train_data = pd.concat([X_train_s_df.reset_index(drop=True), y_train_s_df.reset_index(drop=True)], axis=1)\n",
    "\n",
    "# # Separate the majority and minority classes\n",
    "# majority_class = train_data[~train_data['label'].isin(['OBJECTIVE', 'BACKGROUND'])]  \n",
    "# minority_class_1 = train_data[train_data['label'] == 'OBJECTIVE']  \n",
    "# minority_class_2 = train_data[train_data['label'] == 'BACKGROUND']  \n",
    "\n",
    "# # Upsample the minority classes\n",
    "# minority_upsampled_1 = resample(minority_class_1, replace=True, n_samples=len(majority_class), random_state=42)\n",
    "# minority_upsampled_2 = resample(minority_class_2, replace=True, n_samples=len(majority_class), random_state=42)\n",
    "\n",
    "# # Combine the majority class and upsampled minority classes\n",
    "# train_data_upsampled = pd.concat([majority_class, minority_upsampled_1, minority_upsampled_2])\n",
    "\n",
    "# # Split the upsampled data back into X_train_s and y_train_s\n",
    "# X_train_s_upsampled = train_data_upsampled.drop('label', axis=1).values  \n",
    "# y_train_s_upsampled = train_data_upsampled['label'].values  \n",
    "\n"
   ]
  },
  {
   "cell_type": "code",
   "execution_count": 15,
   "id": "44bca73f",
   "metadata": {},
   "outputs": [],
   "source": [
    "# # Run RandomForestClassifier with the upsampled data\n",
    "# rf_best = RandomForestClassifier(n_estimators=300, min_samples_split=10, max_depth=100)\n",
    "# rf_best.fit(X_train_s_upsampled, y_train_s_upsampled)\n",
    "\n",
    "# # Print results\n",
    "# predictions = rf_best.predict(X_test_s)\n",
    "# print(\"Test set:\")\n",
    "# print(classification_report(y_test_s, predictions))\n",
    "\n",
    "# predictions_train = rf_best.predict(X_train_s_upsampled)\n",
    "# print(\"Training set:\")\n",
    "# print(classification_report(y_train_s_upsampled, predictions_train))"
   ]
  },
  {
   "cell_type": "code",
   "execution_count": 16,
   "id": "1c1a7cc3",
   "metadata": {},
   "outputs": [],
   "source": [
    "# # Run logistic with the upsampled data\n",
    "\n",
    "# logistic_best = LogisticRegression(C=10, penalty='l2')\n",
    "# logistic_best.fit(X_train_s_upsampled, y_train_s_upsampled)\n",
    "\n",
    "# # Print results\n",
    "# predictions = logistic_best.predict(X_test_s)\n",
    "# print(\"Test set:\")\n",
    "# print(classification_report(y_test_s, predictions))\n",
    "\n",
    "# predictions_train = logistic_best.predict(X_train_s_upsampled)\n",
    "# print(\"Training set:\")\n",
    "# print(classification_report(y_train_s_upsampled, predictions_train))"
   ]
  },
  {
   "cell_type": "code",
   "execution_count": 17,
   "id": "de549aff",
   "metadata": {},
   "outputs": [],
   "source": [
    "#####################################################################\n",
    "######################## FEATURE IMPORTANCE #########################\n",
    "#####################################################################"
   ]
  },
  {
   "cell_type": "code",
   "execution_count": 18,
   "id": "7f5fe879",
   "metadata": {},
   "outputs": [
    {
     "name": "stderr",
     "output_type": "stream",
     "text": [
      "Function get_feature_names is deprecated; get_feature_names is deprecated in 1.0 and will be removed in 1.2. Please use get_feature_names_out instead.\n"
     ]
    }
   ],
   "source": [
    "# Feature importance logistic  \n",
    "# Get feature names from TfidfVectorizer used in cross-validation\n",
    "feature_names = vectorizer.get_feature_names()\n",
    "\n",
    "# Get feature importances\n",
    "importances = abs(logistic_best.coef_[0])\n",
    "feature_importances_logistic = pd.DataFrame({'feature': feature_names, 'importance': importances})\n",
    "\n",
    "# Sort features by importance\n",
    "feature_importances_logistic = feature_importances_logistic.sort_values('importance', ascending=False)\n",
    "feature_importances_logistic = feature_importances_logistic.reset_index(drop=True)"
   ]
  },
  {
   "cell_type": "code",
   "execution_count": 39,
   "id": "cb39b5c4",
   "metadata": {},
   "outputs": [
    {
     "name": "stdout",
     "output_type": "stream",
     "text": [
      "[[1.52041956e-04 1.40576064e-04 9.89961273e-05 ... 2.17720621e-04\n",
      "  3.99578842e-04 3.34689695e-04]\n",
      " [9.95440827e-05 1.35871689e-04 7.24784289e-05 ... 2.19847791e-04\n",
      "  2.39555942e-05 2.34834171e-04]\n",
      " [9.20084914e-05 6.38858048e-06 1.89509258e-04 ... 1.52823957e-04\n",
      "  2.10396768e-04 1.65192485e-04]\n",
      " [3.47366340e-05 1.97556346e-06 3.01532811e-04 ... 1.54497353e-04\n",
      "  6.54566754e-05 2.80688758e-05]\n",
      " [3.08857896e-04 2.80860770e-04 8.55058540e-05 ... 1.30247102e-04\n",
      "  9.97698048e-05 4.32400257e-04]]\n"
     ]
    }
   ],
   "source": [
    "\n",
    "#'logistic_best' is the trained LogisticRegression model\n",
    "coefficients = logistic_best.coef_\n",
    "\n",
    "# Calculate the absolute values of coefficients\n",
    "abs_coefficients = np.abs(coefficients)\n",
    "\n",
    "# Calculate the sum of the absolute values\n",
    "sum_abs_coefficients = np.sum(abs_coefficients)\n",
    "\n",
    "# Normalise the feature importances by dividing each value by the sum\n",
    "normalised_feature_importances = abs_coefficients / sum_abs_coefficients\n",
    "\n",
    "# Print the normalised feature importances\n",
    "print(normalised_feature_importances)\n"
   ]
  },
  {
   "cell_type": "code",
   "execution_count": 43,
   "id": "747f27ba",
   "metadata": {},
   "outputs": [
    {
     "name": "stderr",
     "output_type": "stream",
     "text": [
      "Function get_feature_names is deprecated; get_feature_names is deprecated in 1.0 and will be removed in 1.2. Please use get_feature_names_out instead.\n"
     ]
    }
   ],
   "source": [
    "# Feature importance random forest  \n",
    "feature_importances_rf = pd.DataFrame(rf_best.feature_importances_,\n",
    "                                   index = vectorizer.get_feature_names(),\n",
    "                                   columns=['importance']).sort_values('importance', ascending=False)\n",
    "\n",
    "feature_importances_rf = feature_importances_rf.reset_index()\n",
    "feature_importances_rf = feature_importances_rf.rename(columns={'index':'feature'})\n",
    "feature_importances_rf = feature_importances_rf.reset_index(drop=True)"
   ]
  },
  {
   "cell_type": "code",
   "execution_count": 52,
   "id": "4d5a2c35",
   "metadata": {},
   "outputs": [
    {
     "name": "stdout",
     "output_type": "stream",
     "text": [
      "Feature importance RF:\n"
     ]
    },
    {
     "data": {
      "text/html": [
       "<div>\n",
       "<style scoped>\n",
       "    .dataframe tbody tr th:only-of-type {\n",
       "        vertical-align: middle;\n",
       "    }\n",
       "\n",
       "    .dataframe tbody tr th {\n",
       "        vertical-align: top;\n",
       "    }\n",
       "\n",
       "    .dataframe thead th {\n",
       "        text-align: right;\n",
       "    }\n",
       "</style>\n",
       "<table border=\"1\" class=\"dataframe\">\n",
       "  <thead>\n",
       "    <tr style=\"text-align: right;\">\n",
       "      <th></th>\n",
       "      <th>feature</th>\n",
       "      <th>importance</th>\n",
       "    </tr>\n",
       "  </thead>\n",
       "  <tbody>\n",
       "    <tr>\n",
       "      <th>0</th>\n",
       "      <td>group</td>\n",
       "      <td>0.034273</td>\n",
       "    </tr>\n",
       "    <tr>\n",
       "      <th>1</th>\n",
       "      <td>significantly</td>\n",
       "      <td>0.021605</td>\n",
       "    </tr>\n",
       "    <tr>\n",
       "      <th>2</th>\n",
       "      <td>significant</td>\n",
       "      <td>0.018061</td>\n",
       "    </tr>\n",
       "    <tr>\n",
       "      <th>3</th>\n",
       "      <td>randomized</td>\n",
       "      <td>0.018016</td>\n",
       "    </tr>\n",
       "    <tr>\n",
       "      <th>4</th>\n",
       "      <td>may</td>\n",
       "      <td>0.014306</td>\n",
       "    </tr>\n",
       "    <tr>\n",
       "      <th>...</th>\n",
       "      <td>...</td>\n",
       "      <td>...</td>\n",
       "    </tr>\n",
       "    <tr>\n",
       "      <th>995</th>\n",
       "      <td>item</td>\n",
       "      <td>0.000083</td>\n",
       "    </tr>\n",
       "    <tr>\n",
       "      <th>996</th>\n",
       "      <td>mmol</td>\n",
       "      <td>0.000079</td>\n",
       "    </tr>\n",
       "    <tr>\n",
       "      <th>997</th>\n",
       "      <td>ng</td>\n",
       "      <td>0.000072</td>\n",
       "    </tr>\n",
       "    <tr>\n",
       "      <th>998</th>\n",
       "      <td>face</td>\n",
       "      <td>0.000067</td>\n",
       "    </tr>\n",
       "    <tr>\n",
       "      <th>999</th>\n",
       "      <td>mmhg</td>\n",
       "      <td>0.000057</td>\n",
       "    </tr>\n",
       "  </tbody>\n",
       "</table>\n",
       "<p>1000 rows × 2 columns</p>\n",
       "</div>"
      ],
      "text/plain": [
       "           feature  importance\n",
       "0            group    0.034273\n",
       "1    significantly    0.021605\n",
       "2      significant    0.018061\n",
       "3       randomized    0.018016\n",
       "4              may    0.014306\n",
       "..             ...         ...\n",
       "995           item    0.000083\n",
       "996           mmol    0.000079\n",
       "997             ng    0.000072\n",
       "998           face    0.000067\n",
       "999           mmhg    0.000057\n",
       "\n",
       "[1000 rows x 2 columns]"
      ]
     },
     "execution_count": 52,
     "metadata": {},
     "output_type": "execute_result"
    }
   ],
   "source": [
    "print(\"Feature importance RF:\")\n",
    "feature_importances_rf"
   ]
  },
  {
   "cell_type": "code",
   "execution_count": 72,
   "id": "02466445",
   "metadata": {},
   "outputs": [
    {
     "data": {
      "image/png": "[encoded data removed]",
      "text/plain": [
       "<Figure size 720x432 with 1 Axes>"
      ]
     },
     "metadata": {
      "needs_background": "light"
     },
     "output_type": "display_data"
    }
   ],
   "source": [
    "import matplotlib.pyplot as plt\n",
    "\n",
    "# For logistic regression, first create a DataFrame of feature importances\n",
    "coefficients = logistic_best.coef_\n",
    "abs_coefficients = np.abs(coefficients)\n",
    "average_coefficients = np.mean(abs_coefficients, axis=0)\n",
    "normalised_feature_importances = average_coefficients / np.sum(average_coefficients)\n",
    "feature_importances_logistic = pd.DataFrame({'feature': vectorizer.get_feature_names(), 'importance': normalised_feature_importances})\n",
    "feature_importances_logistic = feature_importances_logistic.sort_values('importance', ascending=False)\n",
    "\n",
    "top_n = 20\n",
    "top_features_logistic = feature_importances_logistic.head(top_n)\n",
    "\n",
    "plt.figure(figsize=(10, 6))\n",
    "plt.barh(top_features_logistic['feature'], top_features_logistic['importance'], align='center')\n",
    "plt.gca().invert_yaxis()\n",
    "plt.xlabel('Feature Importance')\n",
    "plt.title(f'Top {top_n} Important Features in Logistic Regression')\n",
    "plt.show()\n"
   ]
  },
  {
   "cell_type": "code",
   "execution_count": 68,
   "id": "6770f46b",
   "metadata": {},
   "outputs": [
    {
     "data": {
      "image/png": "[encoded data removed]",
      "text/plain": [
       "<Figure size 720x432 with 1 Axes>"
      ]
     },
     "metadata": {
      "needs_background": "light"
     },
     "output_type": "display_data"
    }
   ],
   "source": [
    "\n",
    "top_n = 20\n",
    "top_features_rf = feature_importances_rf.head(top_n)\n",
    "\n",
    "plt.figure(figsize=(10, 6))\n",
    "plt.barh(top_features_rf['feature'], top_features_rf['importance'], align='center')\n",
    "plt.gca().invert_yaxis()\n",
    "plt.xlabel('Feature Importance')\n",
    "plt.title(f'Top {top_n} Important Features in Random Forest')\n",
    "plt.show()\n"
   ]
  },
  {
   "cell_type": "code",
   "execution_count": 73,
   "id": "115de63f",
   "metadata": {},
   "outputs": [
    {
     "name": "stdout",
     "output_type": "stream",
     "text": [
      "6\n"
     ]
    }
   ],
   "source": [
    "k = 20\n",
    "top_features_rf = feature_importances_rf.head(k)\n",
    "top_features_logistic = feature_importances_logistic.head(k)\n",
    "\n",
    "count = 0 \n",
    "for word in top_features_rf['feature'].values:\n",
    "    if word in top_features_logistic['feature'].values:\n",
    "        count = count + 1    \n",
    "print(count)"
   ]
  },
  {
   "cell_type": "code",
   "execution_count": 24,
   "id": "574217ff",
   "metadata": {},
   "outputs": [],
   "source": [
    " ## Parameter tuning for random forest \n",
    "\n",
    " param_grid_rf = {\n",
    "     'n_estimators': [50, 100, 300]\n",
    "     'max_depth': [None, 10, 100],\n",
    "     'min_samples_split': [2, 5, 10]\n",
    " }\n",
    "\n",
    " rf = RandomForestClassifier()\n",
    " grid_search_rf = GridSearchCV(rf, param_grid_rf, cv=5)\n",
    " grid_search_rf.fit(X_train_s, y_train_s)\n",
    "\n",
    " print(f'The best parameters are: {grid_search_rf.best_params_}')\n",
    " print(f'The best validation accuracy is: {grid_search_rf.best_score_}')\n",
    "\n",
    " # Evaluate on test set\n",
    " rf_best = grid_search_rf.best_estimator_\n",
    " print(f'The test accuracy is: {accuracy_score(y_test_s, rf_best.predict(X_test_s))}')\n",
    "\n",
    " # {'max_depth': None, 'min_samples_split': 2, 'n_estimators': 500}"
   ]
  },
  {
   "cell_type": "code",
   "execution_count": 25,
   "id": "17c53285",
   "metadata": {},
   "outputs": [],
   "source": [
    " ## Parameter tuning for logistic regression \n",
    "\n",
    " logistic = LogisticRegression() \n",
    "\n",
    " param_grid_logistic = {\n",
    "     'penalty': ['l1', 'l2'],\n",
    "     'C': [0.01, 0.1, 1, 10, 100]\n",
    " }\n",
    "\n",
    "grid_search_logistic = GridSearchCV(logistic, param_grid_logistic, cv=5)\n",
    "grid_search_logistic.fit(X_train_s, y_train_s)\n",
    "\n",
    "print(f'The best parameters are: {grid_search_logistic.best_params_}')\n",
    "print(f'The best validation accuracy is: {grid_search_logistic.best_score_}')\n",
    "\n",
    "\n",
    "\n"
   ]
  }
 ],
 "metadata": {
  "kernelspec": {
   "display_name": "Python 3 (ipykernel)",
   "language": "python",
   "name": "python3"
  },
  "language_info": {
   "codemirror_mode": {
    "name": "ipython",
    "version": 3
   },
   "file_extension": ".py",
   "mimetype": "text/x-python",
   "name": "python",
   "nbconvert_exporter": "python",
   "pygments_lexer": "ipython3",
   "version": "3.11.4"
  }
 },
 "nbformat": 4,
 "nbformat_minor": 5
}
